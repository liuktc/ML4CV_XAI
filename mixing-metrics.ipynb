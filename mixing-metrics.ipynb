{
 "cells": [
  {
   "cell_type": "code",
   "execution_count": 1,
   "metadata": {
    "execution": {
     "iopub.execute_input": "2025-04-01T14:19:01.534130Z",
     "iopub.status.busy": "2025-04-01T14:19:01.533845Z",
     "iopub.status.idle": "2025-04-01T14:19:16.615275Z",
     "shell.execute_reply": "2025-04-01T14:19:16.614249Z",
     "shell.execute_reply.started": "2025-04-01T14:19:01.534093Z"
    },
    "trusted": true
   },
   "outputs": [
    {
     "name": "stdout",
     "output_type": "stream",
     "text": [
      "Cloning into 'ML4CV_XAI'...\n",
      "remote: Enumerating objects: 818, done.\u001b[K\n",
      "remote: Counting objects: 100% (29/29), done.\u001b[K\n",
      "remote: Compressing objects: 100% (24/24), done.\u001b[K\n",
      "remote: Total 818 (delta 6), reused 19 (delta 5), pack-reused 789 (from 1)\u001b[K\n",
      "Receiving objects: 100% (818/818), 63.56 MiB | 39.13 MiB/s, done.\n",
      "Resolving deltas: 100% (359/359), done.\n",
      "Collecting captum\n",
      "  Downloading captum-0.8.0-py3-none-any.whl.metadata (26 kB)\n",
      "Collecting grad_cam\n",
      "  Downloading grad-cam-1.5.4.tar.gz (7.8 MB)\n",
      "\u001b[2K     \u001b[90m━━━━━━━━━━━━━━━━━━━━━━━━━━━━━━━━━━━━━━━━\u001b[0m \u001b[32m7.8/7.8 MB\u001b[0m \u001b[31m38.5 MB/s\u001b[0m eta \u001b[36m0:00:00\u001b[0m00:01\u001b[0m00:01\u001b[0m\n",
      "\u001b[?25h  Installing build dependencies ... \u001b[?25l\u001b[?25hdone\n",
      "  Getting requirements to build wheel ... \u001b[?25l\u001b[?25hdone\n",
      "  Preparing metadata (pyproject.toml) ... \u001b[?25l\u001b[?25hdone\n",
      "Collecting Craft-xai\n",
      "  Downloading Craft_xai-0.0.3-py3-none-any.whl.metadata (4.8 kB)\n",
      "Collecting torcheval\n",
      "  Downloading torcheval-0.0.7-py3-none-any.whl.metadata (8.6 kB)\n",
      "Requirement already satisfied: matplotlib in /usr/local/lib/python3.10/dist-packages (from captum) (3.7.5)\n",
      "Requirement already satisfied: numpy<2.0 in /usr/local/lib/python3.10/dist-packages (from captum) (1.26.4)\n",
      "Requirement already satisfied: packaging in /usr/local/lib/python3.10/dist-packages (from captum) (24.2)\n",
      "Requirement already satisfied: torch>=1.10 in /usr/local/lib/python3.10/dist-packages (from captum) (2.5.1+cu121)\n",
      "Requirement already satisfied: tqdm in /usr/local/lib/python3.10/dist-packages (from captum) (4.67.1)\n",
      "Requirement already satisfied: Pillow in /usr/local/lib/python3.10/dist-packages (from grad_cam) (11.0.0)\n",
      "Requirement already satisfied: torchvision>=0.8.2 in /usr/local/lib/python3.10/dist-packages (from grad_cam) (0.20.1+cu121)\n",
      "Collecting ttach (from grad_cam)\n",
      "  Downloading ttach-0.0.3-py3-none-any.whl.metadata (5.2 kB)\n",
      "Requirement already satisfied: opencv-python in /usr/local/lib/python3.10/dist-packages (from grad_cam) (4.10.0.84)\n",
      "Requirement already satisfied: scikit-learn in /usr/local/lib/python3.10/dist-packages (from grad_cam) (1.2.2)\n",
      "Requirement already satisfied: scikit-image in /usr/local/lib/python3.10/dist-packages (from Craft-xai) (0.25.0)\n",
      "Requirement already satisfied: scipy in /usr/local/lib/python3.10/dist-packages (from Craft-xai) (1.13.1)\n",
      "Requirement already satisfied: typing-extensions in /usr/local/lib/python3.10/dist-packages (from torcheval) (4.12.2)\n",
      "Requirement already satisfied: mkl_fft in /usr/local/lib/python3.10/dist-packages (from numpy<2.0->captum) (1.3.8)\n",
      "Requirement already satisfied: mkl_random in /usr/local/lib/python3.10/dist-packages (from numpy<2.0->captum) (1.2.4)\n",
      "Requirement already satisfied: mkl_umath in /usr/local/lib/python3.10/dist-packages (from numpy<2.0->captum) (0.1.1)\n",
      "Requirement already satisfied: mkl in /usr/local/lib/python3.10/dist-packages (from numpy<2.0->captum) (2025.0.1)\n",
      "Requirement already satisfied: tbb4py in /usr/local/lib/python3.10/dist-packages (from numpy<2.0->captum) (2022.0.0)\n",
      "Requirement already satisfied: mkl-service in /usr/local/lib/python3.10/dist-packages (from numpy<2.0->captum) (2.4.1)\n",
      "Requirement already satisfied: filelock in /usr/local/lib/python3.10/dist-packages (from torch>=1.10->captum) (3.17.0)\n",
      "Requirement already satisfied: networkx in /usr/local/lib/python3.10/dist-packages (from torch>=1.10->captum) (3.4.2)\n",
      "Requirement already satisfied: jinja2 in /usr/local/lib/python3.10/dist-packages (from torch>=1.10->captum) (3.1.4)\n",
      "Requirement already satisfied: fsspec in /usr/local/lib/python3.10/dist-packages (from torch>=1.10->captum) (2024.12.0)\n",
      "Requirement already satisfied: sympy==1.13.1 in /usr/local/lib/python3.10/dist-packages (from torch>=1.10->captum) (1.13.1)\n",
      "Requirement already satisfied: mpmath<1.4,>=1.1.0 in /usr/local/lib/python3.10/dist-packages (from sympy==1.13.1->torch>=1.10->captum) (1.3.0)\n",
      "Requirement already satisfied: contourpy>=1.0.1 in /usr/local/lib/python3.10/dist-packages (from matplotlib->captum) (1.3.1)\n",
      "Requirement already satisfied: cycler>=0.10 in /usr/local/lib/python3.10/dist-packages (from matplotlib->captum) (0.12.1)\n",
      "Requirement already satisfied: fonttools>=4.22.0 in /usr/local/lib/python3.10/dist-packages (from matplotlib->captum) (4.55.3)\n",
      "Requirement already satisfied: kiwisolver>=1.0.1 in /usr/local/lib/python3.10/dist-packages (from matplotlib->captum) (1.4.7)\n",
      "Requirement already satisfied: pyparsing>=2.3.1 in /usr/local/lib/python3.10/dist-packages (from matplotlib->captum) (3.2.0)\n",
      "Requirement already satisfied: python-dateutil>=2.7 in /usr/local/lib/python3.10/dist-packages (from matplotlib->captum) (2.9.0.post0)\n",
      "Requirement already satisfied: imageio!=2.35.0,>=2.33 in /usr/local/lib/python3.10/dist-packages (from scikit-image->Craft-xai) (2.36.1)\n",
      "Requirement already satisfied: tifffile>=2022.8.12 in /usr/local/lib/python3.10/dist-packages (from scikit-image->Craft-xai) (2024.12.12)\n",
      "Requirement already satisfied: lazy-loader>=0.4 in /usr/local/lib/python3.10/dist-packages (from scikit-image->Craft-xai) (0.4)\n",
      "Requirement already satisfied: joblib>=1.1.1 in /usr/local/lib/python3.10/dist-packages (from scikit-learn->grad_cam) (1.4.2)\n",
      "Requirement already satisfied: threadpoolctl>=2.0.0 in /usr/local/lib/python3.10/dist-packages (from scikit-learn->grad_cam) (3.5.0)\n",
      "Requirement already satisfied: six>=1.5 in /usr/local/lib/python3.10/dist-packages (from python-dateutil>=2.7->matplotlib->captum) (1.17.0)\n",
      "Requirement already satisfied: MarkupSafe>=2.0 in /usr/local/lib/python3.10/dist-packages (from jinja2->torch>=1.10->captum) (3.0.2)\n",
      "Requirement already satisfied: intel-openmp>=2024 in /usr/local/lib/python3.10/dist-packages (from mkl->numpy<2.0->captum) (2024.2.0)\n",
      "Requirement already satisfied: tbb==2022.* in /usr/local/lib/python3.10/dist-packages (from mkl->numpy<2.0->captum) (2022.0.0)\n",
      "Requirement already satisfied: tcmlib==1.* in /usr/local/lib/python3.10/dist-packages (from tbb==2022.*->mkl->numpy<2.0->captum) (1.2.0)\n",
      "Requirement already satisfied: intel-cmplr-lib-rt in /usr/local/lib/python3.10/dist-packages (from mkl_umath->numpy<2.0->captum) (2024.2.0)\n",
      "Requirement already satisfied: intel-cmplr-lib-ur==2024.2.0 in /usr/local/lib/python3.10/dist-packages (from intel-openmp>=2024->mkl->numpy<2.0->captum) (2024.2.0)\n",
      "Downloading captum-0.8.0-py3-none-any.whl (1.4 MB)\n",
      "\u001b[2K   \u001b[90m━━━━━━━━━━━━━━━━━━━━━━━━━━━━━━━━━━━━━━━━\u001b[0m \u001b[32m1.4/1.4 MB\u001b[0m \u001b[31m31.2 MB/s\u001b[0m eta \u001b[36m0:00:00\u001b[0m00:01\u001b[0m\n",
      "\u001b[?25hDownloading Craft_xai-0.0.3-py3-none-any.whl (18 kB)\n",
      "Downloading torcheval-0.0.7-py3-none-any.whl (179 kB)\n",
      "\u001b[2K   \u001b[90m━━━━━━━━━━━━━━━━━━━━━━━━━━━━━━━━━━━━━━━━\u001b[0m \u001b[32m179.2/179.2 kB\u001b[0m \u001b[31m12.2 MB/s\u001b[0m eta \u001b[36m0:00:00\u001b[0m\n",
      "\u001b[?25hDownloading ttach-0.0.3-py3-none-any.whl (9.8 kB)\n",
      "Building wheels for collected packages: grad_cam\n",
      "  Building wheel for grad_cam (pyproject.toml) ... \u001b[?25l\u001b[?25hdone\n",
      "  Created wheel for grad_cam: filename=grad_cam-1.5.4-py3-none-any.whl size=39680 sha256=0a68309590a3edf4e79646b401573e3d306ac48f301b6b3a2c46364d5a4b2a7a\n",
      "  Stored in directory: /root/.cache/pip/wheels/50/b0/82/1f97b5348c7fe9f0ce0ba18497202cafa5dec4562bd5292680\n",
      "Successfully built grad_cam\n",
      "Installing collected packages: ttach, torcheval, grad_cam, Craft-xai, captum\n",
      "Successfully installed Craft-xai-0.0.3 captum-0.8.0 grad_cam-1.5.4 torcheval-0.0.7 ttach-0.0.3\n"
     ]
    }
   ],
   "source": [
    "!rm -rf ./ML4CV_XAI\n",
    "!git clone https://github.com/liuktc/ML4CV_XAI.git\n",
    "!pip install captum grad_cam Craft-xai torcheval\n",
    "%load_ext autoreload\n",
    "\n",
    "%autoreload 2\n",
    "\n",
    "import sys\n",
    "sys.path.append('/kaggle/working/ML4CV_XAI')"
   ]
  },
  {
   "cell_type": "code",
   "execution_count": 16,
   "metadata": {
    "execution": {
     "iopub.execute_input": "2025-04-01T14:19:24.213544Z",
     "iopub.status.busy": "2025-04-01T14:19:24.213196Z",
     "iopub.status.idle": "2025-04-01T14:19:43.526636Z",
     "shell.execute_reply": "2025-04-01T14:19:43.525812Z",
     "shell.execute_reply.started": "2025-04-01T14:19:24.213514Z"
    },
    "trusted": true
   },
   "outputs": [
    {
     "name": "stdout",
     "output_type": "stream",
     "text": [
      "The autoreload extension is already loaded. To reload it, use:\n",
      "  %reload_ext autoreload\n"
     ]
    }
   ],
   "source": [
    "%load_ext autoreload\n",
    "\n",
    "%autoreload 2\n",
    "\n",
    "import numpy as np\n",
    "import torch\n",
    "from torch.utils.data import DataLoader\n",
    "\n",
    "from utils import _DeepLiftShap, _GradCAMPlusPlus, SimpleUpsampling,ERFUpsamplingFast, min_max_normalize\n",
    "from data import imagenettewoof\n",
    "from results.results_metrics import ResultMetrics\n",
    "from models import vgg11_PascalVOC, vgg_preprocess, vgg11_Imagenettewoof\n",
    "\n",
    "device = torch.device(\"cuda\" if torch.cuda.is_available() else \"cpu\")\n",
    "    \n",
    "torch.manual_seed(123)\n",
    "np.random.seed(123)"
   ]
  },
  {
   "cell_type": "code",
   "execution_count": 2,
   "metadata": {
    "execution": {
     "iopub.execute_input": "2025-04-01T14:19:58.789982Z",
     "iopub.status.busy": "2025-04-01T14:19:58.789636Z",
     "iopub.status.idle": "2025-04-01T14:20:04.437048Z",
     "shell.execute_reply": "2025-04-01T14:20:04.436302Z",
     "shell.execute_reply.started": "2025-04-01T14:19:58.789957Z"
    },
    "trusted": true
   },
   "outputs": [],
   "source": [
    "model = vgg11_Imagenettewoof()\n",
    "model.to(device)\n",
    "# Load the pretrained weights\n",
    "model.load_state_dict(torch.load('./VGG11_PascalVOC.pt', map_location=device))\n",
    "model.eval()\n",
    "\n",
    "preprocess = vgg_preprocess"
   ]
  },
  {
   "cell_type": "code",
   "execution_count": 23,
   "metadata": {
    "execution": {
     "iopub.execute_input": "2025-04-01T14:20:08.463650Z",
     "iopub.status.busy": "2025-04-01T14:20:08.463355Z",
     "iopub.status.idle": "2025-04-01T14:21:21.942468Z",
     "shell.execute_reply": "2025-04-01T14:21:21.941733Z",
     "shell.execute_reply.started": "2025-04-01T14:20:08.463631Z"
    },
    "trusted": true
   },
   "outputs": [
    {
     "name": "stdout",
     "output_type": "stream",
     "text": [
      "data\\imagewoof2-320\n",
      "data\\imagewoof2-320\n"
     ]
    }
   ],
   "source": [
    "train_data = imagenettewoof(split=\"train\",size=\"320px\",download=False, transform=preprocess)\n",
    "test_data = imagenettewoof(split=\"test\",size=\"320px\", download=False, transform=preprocess)"
   ]
  },
  {
   "cell_type": "code",
   "execution_count": null,
   "metadata": {},
   "outputs": [],
   "source": [
    "###########################################\n",
    "###########################################\n",
    "###########################################\n",
    "###########################################\n",
    "## TO CHANGE IN KAGGLE\n",
    "INDEX = 0 # 0,1,2,3\n",
    "###########################################\n",
    "###########################################\n",
    "###########################################\n",
    "###########################################\n",
    "\n",
    "# Number of parts to split the dataset into\n",
    "num_parts = 4\n",
    "\n",
    "# Get the total number of images in the dataset\n",
    "total_size = len(test_data)\n",
    "\n",
    "# Split the dataset indices into roughly equal parts\n",
    "split_indices = np.array_split(np.arange(total_size), num_parts)\n",
    "\n",
    "INDICES = split_indices[INDEX]"
   ]
  },
  {
   "cell_type": "code",
   "execution_count": 36,
   "metadata": {
    "execution": {
     "iopub.execute_input": "2025-04-01T14:21:26.817380Z",
     "iopub.status.busy": "2025-04-01T14:21:26.817069Z",
     "iopub.status.idle": "2025-04-01T14:21:26.889701Z",
     "shell.execute_reply": "2025-04-01T14:21:26.888943Z",
     "shell.execute_reply.started": "2025-04-01T14:21:26.817359Z"
    },
    "trusted": true
   },
   "outputs": [],
   "source": [
    "import torch.utils\n",
    "from torch.utils.data import Subset\n",
    "\n",
    "# BATCH_SIZE_TEST = 1\n",
    "\n",
    "BATCH_SIZE_TRAIN = 2\n",
    "NUM_TRAIN = 16\n",
    "\n",
    "# dl_test = DataLoader(test_data, batch_size=BATCH_SIZE_TEST, shuffle=False)\n",
    "dl_train = DataLoader(Subset(train_data, torch.randperm(len(train_data))[:NUM_TRAIN]), batch_size=BATCH_SIZE_TRAIN, shuffle=False)"
   ]
  },
  {
   "cell_type": "code",
   "execution_count": 37,
   "metadata": {
    "execution": {
     "iopub.execute_input": "2025-04-01T14:21:28.343473Z",
     "iopub.status.busy": "2025-04-01T14:21:28.343186Z",
     "iopub.status.idle": "2025-04-01T14:21:28.511033Z",
     "shell.execute_reply": "2025-04-01T14:21:28.510291Z",
     "shell.execute_reply.started": "2025-04-01T14:21:28.343452Z"
    },
    "trusted": true
   },
   "outputs": [],
   "source": [
    "baseline_dist_16 = torch.cat([images for images, _ in dl_train], dim=0).to(device)\n",
    "baseline_dist_8 = baseline_dist_16[:8].clone()\n",
    "baseline_dist_4 = baseline_dist_16[:4].clone()"
   ]
  },
  {
   "cell_type": "code",
   "execution_count": 38,
   "metadata": {
    "execution": {
     "iopub.execute_input": "2025-04-01T14:21:29.331317Z",
     "iopub.status.busy": "2025-04-01T14:21:29.331004Z",
     "iopub.status.idle": "2025-04-01T14:21:29.394992Z",
     "shell.execute_reply": "2025-04-01T14:21:29.394049Z",
     "shell.execute_reply.started": "2025-04-01T14:21:29.331294Z"
    },
    "trusted": true
   },
   "outputs": [],
   "source": [
    "LAYERS = [20,15,10,5]"
   ]
  },
  {
   "cell_type": "code",
   "execution_count": null,
   "metadata": {
    "execution": {
     "iopub.execute_input": "2025-04-01T14:27:06.598608Z",
     "iopub.status.busy": "2025-04-01T14:27:06.598277Z"
    },
    "trusted": true
   },
   "outputs": [
    {
     "name": "stdout",
     "output_type": "stream",
     "text": [
      "Results loaded from ./results_mixed.csv.\n"
     ]
    },
    {
     "data": {
      "application/vnd.jupyter.widget-view+json": {
       "model_id": "dff75773614048629bbd119d1b7e9f77",
       "version_major": 2,
       "version_minor": 0
      },
      "text/plain": [
       "  0%|          | 0/250 [00:00<?, ?it/s]"
      ]
     },
     "metadata": {},
     "output_type": "display_data"
    },
    {
     "name": "stdout",
     "output_type": "stream",
     "text": [
      "torch.Size([1, 3, 224, 224]) torch.Size([1])\n"
     ]
    },
    {
     "name": "stderr",
     "output_type": "stream",
     "text": [
      "c:\\Users\\Luca\\AppData\\Local\\Programs\\Python\\Python310\\lib\\site-packages\\captum\\attr\\_core\\deep_lift.py:304: UserWarning: Setting forward, backward hooks and attributes on non-linear\n",
      "               activations. The hooks and attributes will be removed\n",
      "            after the attribution is finished\n",
      "  warnings.warn(\n"
     ]
    },
    {
     "ename": "KeyboardInterrupt",
     "evalue": "",
     "output_type": "error",
     "traceback": [
      "\u001b[1;31m---------------------------------------------------------------------------\u001b[0m",
      "\u001b[1;31mKeyboardInterrupt\u001b[0m                         Traceback (most recent call last)",
      "Cell \u001b[1;32mIn[44], line 23\u001b[0m\n\u001b[0;32m     21\u001b[0m \u001b[38;5;28;01mfor\u001b[39;00m layer_index \u001b[38;5;129;01min\u001b[39;00m LAYERS:\n\u001b[0;32m     22\u001b[0m     layer \u001b[38;5;241m=\u001b[39m model\u001b[38;5;241m.\u001b[39mfeatures[layer_index]\n\u001b[1;32m---> 23\u001b[0m     attribution_map \u001b[38;5;241m=\u001b[39m \u001b[43mattribution_method\u001b[49m\u001b[38;5;241;43m.\u001b[39;49m\u001b[43mattribute\u001b[49m\u001b[43m(\u001b[49m\u001b[43minput_tensor\u001b[49m\u001b[38;5;241;43m=\u001b[39;49m\u001b[43mimages\u001b[49m\u001b[43m,\u001b[49m\n\u001b[0;32m     24\u001b[0m \u001b[43m                                                    \u001b[49m\u001b[43mmodel\u001b[49m\u001b[38;5;241;43m=\u001b[39;49m\u001b[43mmodel\u001b[49m\u001b[43m,\u001b[49m\n\u001b[0;32m     25\u001b[0m \u001b[43m                                                    \u001b[49m\u001b[43mlayer\u001b[49m\u001b[38;5;241;43m=\u001b[39;49m\u001b[43mlayer\u001b[49m\u001b[43m,\u001b[49m\n\u001b[0;32m     26\u001b[0m \u001b[43m                                                    \u001b[49m\u001b[43mtarget\u001b[49m\u001b[38;5;241;43m=\u001b[39;49m\u001b[43mlabels\u001b[49m\n\u001b[0;32m     27\u001b[0m \u001b[43m                                                    \u001b[49m\u001b[43m)\u001b[49m\n\u001b[0;32m     29\u001b[0m     \u001b[38;5;66;03m# upsample_method = SimpleUpsampling((224,224))\u001b[39;00m\n\u001b[0;32m     30\u001b[0m     attribution_map \u001b[38;5;241m=\u001b[39m upsample_method(attribution\u001b[38;5;241m=\u001b[39mattribution_map,\n\u001b[0;32m     31\u001b[0m                                       image\u001b[38;5;241m=\u001b[39mimages,\n\u001b[0;32m     32\u001b[0m                                       device\u001b[38;5;241m=\u001b[39mdevice,\n\u001b[0;32m     33\u001b[0m                                       model\u001b[38;5;241m=\u001b[39mmodel,\n\u001b[0;32m     34\u001b[0m                                       layer\u001b[38;5;241m=\u001b[39mlayer)\n",
      "File \u001b[1;32mc:\\Users\\Luca\\Desktop\\MagistraleAI\\2nd_year\\Artificial Intelligence in Industry\\project\\utils\\attributions.py:164\u001b[0m, in \u001b[0;36m_DeepLiftShap.attribute\u001b[1;34m(self, input_tensor, model, layer, target, normalize, **kwargs)\u001b[0m\n\u001b[0;32m    161\u001b[0m \u001b[38;5;28;01melse\u001b[39;00m:\n\u001b[0;32m    162\u001b[0m     baseline_dist \u001b[38;5;241m=\u001b[39m model_to(\u001b[38;5;28mself\u001b[39m\u001b[38;5;241m.\u001b[39mbaseline_images)\n\u001b[1;32m--> 164\u001b[0m attributions, delta \u001b[38;5;241m=\u001b[39m \u001b[43mdl\u001b[49m\u001b[38;5;241;43m.\u001b[39;49m\u001b[43mattribute\u001b[49m\u001b[43m(\u001b[49m\n\u001b[0;32m    165\u001b[0m \u001b[43m    \u001b[49m\u001b[43minput_to_model\u001b[49m\u001b[43m,\u001b[49m\u001b[43m \u001b[49m\u001b[43mbaseline_dist\u001b[49m\u001b[43m,\u001b[49m\u001b[43m \u001b[49m\u001b[43mtarget\u001b[49m\u001b[38;5;241;43m=\u001b[39;49m\u001b[43mtarget\u001b[49m\u001b[43m,\u001b[49m\u001b[43m \u001b[49m\u001b[43mreturn_convergence_delta\u001b[49m\u001b[38;5;241;43m=\u001b[39;49m\u001b[38;5;28;43;01mTrue\u001b[39;49;00m\n\u001b[0;32m    166\u001b[0m \u001b[43m\u001b[49m\u001b[43m)\u001b[49m\n\u001b[0;32m    167\u001b[0m attributions \u001b[38;5;241m=\u001b[39m attributions\u001b[38;5;241m.\u001b[39msum(dim\u001b[38;5;241m=\u001b[39m\u001b[38;5;241m1\u001b[39m, keepdim\u001b[38;5;241m=\u001b[39m\u001b[38;5;28;01mTrue\u001b[39;00m)\n\u001b[0;32m    169\u001b[0m \u001b[38;5;28;01mif\u001b[39;00m normalize:\n",
      "File \u001b[1;32mc:\\Users\\Luca\\AppData\\Local\\Programs\\Python\\Python310\\lib\\site-packages\\captum\\log\\__init__.py:42\u001b[0m, in \u001b[0;36mlog_usage.<locals>._log_usage.<locals>.wrapper\u001b[1;34m(*args, **kwargs)\u001b[0m\n\u001b[0;32m     40\u001b[0m \u001b[38;5;129m@wraps\u001b[39m(func)\n\u001b[0;32m     41\u001b[0m \u001b[38;5;28;01mdef\u001b[39;00m \u001b[38;5;21mwrapper\u001b[39m(\u001b[38;5;241m*\u001b[39margs, \u001b[38;5;241m*\u001b[39m\u001b[38;5;241m*\u001b[39mkwargs):\n\u001b[1;32m---> 42\u001b[0m     \u001b[38;5;28;01mreturn\u001b[39;00m func(\u001b[38;5;241m*\u001b[39margs, \u001b[38;5;241m*\u001b[39m\u001b[38;5;241m*\u001b[39mkwargs)\n",
      "File \u001b[1;32mc:\\Users\\Luca\\AppData\\Local\\Programs\\Python\\Python310\\lib\\site-packages\\captum\\attr\\_core\\deep_lift.py:788\u001b[0m, in \u001b[0;36mDeepLiftShap.attribute\u001b[1;34m(self, inputs, baselines, target, additional_forward_args, return_convergence_delta, custom_attribution_func)\u001b[0m\n\u001b[0;32m    778\u001b[0m base_bsz \u001b[38;5;241m=\u001b[39m baselines[\u001b[38;5;241m0\u001b[39m]\u001b[38;5;241m.\u001b[39mshape[\u001b[38;5;241m0\u001b[39m]\n\u001b[0;32m    780\u001b[0m (\n\u001b[0;32m    781\u001b[0m     exp_inp,\n\u001b[0;32m    782\u001b[0m     exp_base,\n\u001b[1;32m   (...)\u001b[0m\n\u001b[0;32m    786\u001b[0m     baselines, inputs, target, additional_forward_args\n\u001b[0;32m    787\u001b[0m )\n\u001b[1;32m--> 788\u001b[0m attributions \u001b[38;5;241m=\u001b[39m \u001b[38;5;28;43msuper\u001b[39;49m\u001b[43m(\u001b[49m\u001b[43m)\u001b[49m\u001b[38;5;241;43m.\u001b[39;49m\u001b[43mattribute\u001b[49m\u001b[38;5;241;43m.\u001b[39;49m\u001b[43m__wrapped__\u001b[49m\u001b[43m(\u001b[49m\u001b[43m  \u001b[49m\u001b[38;5;66;43;03m# type: ignore\u001b[39;49;00m\n\u001b[0;32m    789\u001b[0m \u001b[43m    \u001b[49m\u001b[38;5;28;43mself\u001b[39;49m\u001b[43m,\u001b[49m\n\u001b[0;32m    790\u001b[0m \u001b[43m    \u001b[49m\u001b[43mexp_inp\u001b[49m\u001b[43m,\u001b[49m\n\u001b[0;32m    791\u001b[0m \u001b[43m    \u001b[49m\u001b[43mexp_base\u001b[49m\u001b[43m,\u001b[49m\n\u001b[0;32m    792\u001b[0m \u001b[43m    \u001b[49m\u001b[43mtarget\u001b[49m\u001b[38;5;241;43m=\u001b[39;49m\u001b[43mexp_tgt\u001b[49m\u001b[43m,\u001b[49m\n\u001b[0;32m    793\u001b[0m \u001b[43m    \u001b[49m\u001b[43madditional_forward_args\u001b[49m\u001b[38;5;241;43m=\u001b[39;49m\u001b[43mexp_addit_args\u001b[49m\u001b[43m,\u001b[49m\n\u001b[0;32m    794\u001b[0m \u001b[43m    \u001b[49m\u001b[43mreturn_convergence_delta\u001b[49m\u001b[38;5;241;43m=\u001b[39;49m\u001b[43mcast\u001b[49m\u001b[43m(\u001b[49m\n\u001b[0;32m    795\u001b[0m \u001b[43m        \u001b[49m\u001b[43mLiteral\u001b[49m\u001b[43m[\u001b[49m\u001b[38;5;28;43;01mTrue\u001b[39;49;00m\u001b[43m,\u001b[49m\u001b[43m \u001b[49m\u001b[38;5;28;43;01mFalse\u001b[39;49;00m\u001b[43m]\u001b[49m\u001b[43m,\u001b[49m\u001b[43m \u001b[49m\u001b[43mreturn_convergence_delta\u001b[49m\n\u001b[0;32m    796\u001b[0m \u001b[43m    \u001b[49m\u001b[43m)\u001b[49m\u001b[43m,\u001b[49m\n\u001b[0;32m    797\u001b[0m \u001b[43m    \u001b[49m\u001b[43mcustom_attribution_func\u001b[49m\u001b[38;5;241;43m=\u001b[39;49m\u001b[43mcustom_attribution_func\u001b[49m\u001b[43m,\u001b[49m\n\u001b[0;32m    798\u001b[0m \u001b[43m\u001b[49m\u001b[43m)\u001b[49m\n\u001b[0;32m    799\u001b[0m \u001b[38;5;28;01mif\u001b[39;00m return_convergence_delta:\n\u001b[0;32m    800\u001b[0m     attributions, delta \u001b[38;5;241m=\u001b[39m cast(Tuple[Tuple[Tensor, \u001b[38;5;241m.\u001b[39m\u001b[38;5;241m.\u001b[39m\u001b[38;5;241m.\u001b[39m], Tensor], attributions)\n",
      "File \u001b[1;32mc:\\Users\\Luca\\AppData\\Local\\Programs\\Python\\Python310\\lib\\site-packages\\captum\\attr\\_core\\deep_lift.py:330\u001b[0m, in \u001b[0;36mDeepLift.attribute\u001b[1;34m(self, inputs, baselines, target, additional_forward_args, return_convergence_delta, custom_attribution_func)\u001b[0m\n\u001b[0;32m    320\u001b[0m expanded_target \u001b[38;5;241m=\u001b[39m _expand_target(\n\u001b[0;32m    321\u001b[0m     target, \u001b[38;5;241m2\u001b[39m, expansion_type\u001b[38;5;241m=\u001b[39mExpansionTypes\u001b[38;5;241m.\u001b[39mrepeat\n\u001b[0;32m    322\u001b[0m )\n\u001b[0;32m    324\u001b[0m wrapped_forward_func \u001b[38;5;241m=\u001b[39m \u001b[38;5;28mself\u001b[39m\u001b[38;5;241m.\u001b[39m_construct_forward_func(\n\u001b[0;32m    325\u001b[0m     \u001b[38;5;28mself\u001b[39m\u001b[38;5;241m.\u001b[39mmodel,\n\u001b[0;32m    326\u001b[0m     (inputs, baselines),\n\u001b[0;32m    327\u001b[0m     expanded_target,\n\u001b[0;32m    328\u001b[0m     additional_forward_args,\n\u001b[0;32m    329\u001b[0m )\n\u001b[1;32m--> 330\u001b[0m gradients \u001b[38;5;241m=\u001b[39m \u001b[38;5;28;43mself\u001b[39;49m\u001b[38;5;241;43m.\u001b[39;49m\u001b[43mgradient_func\u001b[49m\u001b[43m(\u001b[49m\u001b[43mwrapped_forward_func\u001b[49m\u001b[43m,\u001b[49m\u001b[43m \u001b[49m\u001b[43minputs\u001b[49m\u001b[43m)\u001b[49m\n\u001b[0;32m    331\u001b[0m \u001b[38;5;28;01mif\u001b[39;00m custom_attribution_func \u001b[38;5;129;01mis\u001b[39;00m \u001b[38;5;28;01mNone\u001b[39;00m:\n\u001b[0;32m    332\u001b[0m     \u001b[38;5;28;01mif\u001b[39;00m \u001b[38;5;28mself\u001b[39m\u001b[38;5;241m.\u001b[39mmultiplies_by_inputs:\n",
      "File \u001b[1;32mc:\\Users\\Luca\\AppData\\Local\\Programs\\Python\\Python310\\lib\\site-packages\\captum\\_utils\\gradient.py:119\u001b[0m, in \u001b[0;36mcompute_gradients\u001b[1;34m(forward_fn, inputs, target_ind, additional_forward_args)\u001b[0m\n\u001b[0;32m    113\u001b[0m     \u001b[38;5;28;01massert\u001b[39;00m outputs[\u001b[38;5;241m0\u001b[39m]\u001b[38;5;241m.\u001b[39mnumel() \u001b[38;5;241m==\u001b[39m \u001b[38;5;241m1\u001b[39m, (\n\u001b[0;32m    114\u001b[0m         \u001b[38;5;124m\"\u001b[39m\u001b[38;5;124mTarget not provided when necessary, cannot\u001b[39m\u001b[38;5;124m\"\u001b[39m\n\u001b[0;32m    115\u001b[0m         \u001b[38;5;124m\"\u001b[39m\u001b[38;5;124m take gradient with respect to multiple outputs.\u001b[39m\u001b[38;5;124m\"\u001b[39m\n\u001b[0;32m    116\u001b[0m     )\n\u001b[0;32m    117\u001b[0m     \u001b[38;5;66;03m# torch.unbind(forward_out) is a list of scalar tensor tuples and\u001b[39;00m\n\u001b[0;32m    118\u001b[0m     \u001b[38;5;66;03m# contains batch_size * #steps elements\u001b[39;00m\n\u001b[1;32m--> 119\u001b[0m     grads \u001b[38;5;241m=\u001b[39m \u001b[43mtorch\u001b[49m\u001b[38;5;241;43m.\u001b[39;49m\u001b[43mautograd\u001b[49m\u001b[38;5;241;43m.\u001b[39;49m\u001b[43mgrad\u001b[49m\u001b[43m(\u001b[49m\u001b[43mtorch\u001b[49m\u001b[38;5;241;43m.\u001b[39;49m\u001b[43munbind\u001b[49m\u001b[43m(\u001b[49m\u001b[43moutputs\u001b[49m\u001b[43m)\u001b[49m\u001b[43m,\u001b[49m\u001b[43m \u001b[49m\u001b[43minputs\u001b[49m\u001b[43m)\u001b[49m\n\u001b[0;32m    120\u001b[0m \u001b[38;5;28;01mreturn\u001b[39;00m grads\n",
      "File \u001b[1;32mc:\\Users\\Luca\\AppData\\Local\\Programs\\Python\\Python310\\lib\\site-packages\\torch\\autograd\\__init__.py:412\u001b[0m, in \u001b[0;36mgrad\u001b[1;34m(outputs, inputs, grad_outputs, retain_graph, create_graph, only_inputs, allow_unused, is_grads_batched, materialize_grads)\u001b[0m\n\u001b[0;32m    408\u001b[0m     result \u001b[38;5;241m=\u001b[39m _vmap_internals\u001b[38;5;241m.\u001b[39m_vmap(vjp, \u001b[38;5;241m0\u001b[39m, \u001b[38;5;241m0\u001b[39m, allow_none_pass_through\u001b[38;5;241m=\u001b[39m\u001b[38;5;28;01mTrue\u001b[39;00m)(\n\u001b[0;32m    409\u001b[0m         grad_outputs_\n\u001b[0;32m    410\u001b[0m     )\n\u001b[0;32m    411\u001b[0m \u001b[38;5;28;01melse\u001b[39;00m:\n\u001b[1;32m--> 412\u001b[0m     result \u001b[38;5;241m=\u001b[39m \u001b[43m_engine_run_backward\u001b[49m\u001b[43m(\u001b[49m\n\u001b[0;32m    413\u001b[0m \u001b[43m        \u001b[49m\u001b[43mt_outputs\u001b[49m\u001b[43m,\u001b[49m\n\u001b[0;32m    414\u001b[0m \u001b[43m        \u001b[49m\u001b[43mgrad_outputs_\u001b[49m\u001b[43m,\u001b[49m\n\u001b[0;32m    415\u001b[0m \u001b[43m        \u001b[49m\u001b[43mretain_graph\u001b[49m\u001b[43m,\u001b[49m\n\u001b[0;32m    416\u001b[0m \u001b[43m        \u001b[49m\u001b[43mcreate_graph\u001b[49m\u001b[43m,\u001b[49m\n\u001b[0;32m    417\u001b[0m \u001b[43m        \u001b[49m\u001b[43minputs\u001b[49m\u001b[43m,\u001b[49m\n\u001b[0;32m    418\u001b[0m \u001b[43m        \u001b[49m\u001b[43mallow_unused\u001b[49m\u001b[43m,\u001b[49m\n\u001b[0;32m    419\u001b[0m \u001b[43m        \u001b[49m\u001b[43maccumulate_grad\u001b[49m\u001b[38;5;241;43m=\u001b[39;49m\u001b[38;5;28;43;01mFalse\u001b[39;49;00m\u001b[43m,\u001b[49m\n\u001b[0;32m    420\u001b[0m \u001b[43m    \u001b[49m\u001b[43m)\u001b[49m\n\u001b[0;32m    421\u001b[0m \u001b[38;5;28;01mif\u001b[39;00m materialize_grads:\n\u001b[0;32m    422\u001b[0m     \u001b[38;5;28;01mif\u001b[39;00m \u001b[38;5;28many\u001b[39m(\n\u001b[0;32m    423\u001b[0m         result[i] \u001b[38;5;129;01mis\u001b[39;00m \u001b[38;5;28;01mNone\u001b[39;00m \u001b[38;5;129;01mand\u001b[39;00m \u001b[38;5;129;01mnot\u001b[39;00m is_tensor_like(inputs[i])\n\u001b[0;32m    424\u001b[0m         \u001b[38;5;28;01mfor\u001b[39;00m i \u001b[38;5;129;01min\u001b[39;00m \u001b[38;5;28mrange\u001b[39m(\u001b[38;5;28mlen\u001b[39m(inputs))\n\u001b[0;32m    425\u001b[0m     ):\n",
      "File \u001b[1;32mc:\\Users\\Luca\\AppData\\Local\\Programs\\Python\\Python310\\lib\\site-packages\\torch\\autograd\\graph.py:744\u001b[0m, in \u001b[0;36m_engine_run_backward\u001b[1;34m(t_outputs, *args, **kwargs)\u001b[0m\n\u001b[0;32m    742\u001b[0m     unregister_hooks \u001b[38;5;241m=\u001b[39m _register_logging_hooks_on_whole_graph(t_outputs)\n\u001b[0;32m    743\u001b[0m \u001b[38;5;28;01mtry\u001b[39;00m:\n\u001b[1;32m--> 744\u001b[0m     \u001b[38;5;28;01mreturn\u001b[39;00m Variable\u001b[38;5;241m.\u001b[39m_execution_engine\u001b[38;5;241m.\u001b[39mrun_backward(  \u001b[38;5;66;03m# Calls into the C++ engine to run the backward pass\u001b[39;00m\n\u001b[0;32m    745\u001b[0m         t_outputs, \u001b[38;5;241m*\u001b[39margs, \u001b[38;5;241m*\u001b[39m\u001b[38;5;241m*\u001b[39mkwargs\n\u001b[0;32m    746\u001b[0m     )  \u001b[38;5;66;03m# Calls into the C++ engine to run the backward pass\u001b[39;00m\n\u001b[0;32m    747\u001b[0m \u001b[38;5;28;01mfinally\u001b[39;00m:\n\u001b[0;32m    748\u001b[0m     \u001b[38;5;28;01mif\u001b[39;00m attach_logging_hooks:\n",
      "File \u001b[1;32mc:\\Users\\Luca\\AppData\\Local\\Programs\\Python\\Python310\\lib\\site-packages\\captum\\_utils\\common.py:784\u001b[0m, in \u001b[0;36m_register_backward_hook.<locals>.forward_hook.<locals>.output_tensor_hook\u001b[1;34m(output_grad)\u001b[0m\n\u001b[0;32m    781\u001b[0m \u001b[38;5;28;01mnonlocal\u001b[39;00m grad_out\n\u001b[0;32m    782\u001b[0m grad_out \u001b[38;5;241m=\u001b[39m {}\n\u001b[1;32m--> 784\u001b[0m \u001b[38;5;28;01mdef\u001b[39;00m \u001b[38;5;21moutput_tensor_hook\u001b[39m(output_grad: Tensor) \u001b[38;5;241m-\u001b[39m\u001b[38;5;241m>\u001b[39m \u001b[38;5;28;01mNone\u001b[39;00m:\n\u001b[0;32m    785\u001b[0m     grad_out[output_grad\u001b[38;5;241m.\u001b[39mdevice] \u001b[38;5;241m=\u001b[39m output_grad\n\u001b[0;32m    787\u001b[0m \u001b[38;5;28;01mif\u001b[39;00m \u001b[38;5;28misinstance\u001b[39m(out, \u001b[38;5;28mtuple\u001b[39m):\n",
      "\u001b[1;31mKeyboardInterrupt\u001b[0m: "
     ]
    }
   ],
   "source": [
    "from metrics import RoadCombined\n",
    "from utils import MultiplierMix\n",
    "from tqdm.auto import tqdm\n",
    "\n",
    "results = ResultMetrics(\"./results_mixed.csv\")\n",
    "\n",
    "for index in tqdm(INDICES):\n",
    "    images, labels = test_data[index]\n",
    "    images = images.unsqueeze(0)  # Add batch dimension\n",
    "    labels = torch.Tensor([labels]).long()  # Convert to long tensor    \n",
    "    images = images.to(device)\n",
    "    labels = labels.to(device).reshape(-1)\n",
    "\n",
    "    # Make sure that LAYERS is sorted in descending order\n",
    "    LAYERS.sort(reverse=True)\n",
    "    for attribution_method in [_DeepLiftShap(baseline_dist_8, name=\"DeepLiftShap8\"), _GradCAMPlusPlus()]:\n",
    "        for upsample_method in [ERFUpsamplingFast(), SimpleUpsampling((224,224))]:\n",
    "            attributions_per_layer = []\n",
    "            for layer_index in LAYERS:\n",
    "                layer = model.features[layer_index]\n",
    "                attribution_map = attribution_method.attribute(input_tensor=images,\n",
    "                                                                model=model,\n",
    "                                                                layer=layer,\n",
    "                                                                target=labels\n",
    "                                                                )\n",
    "\n",
    "                # upsample_method = SimpleUpsampling((224,224))\n",
    "                attribution_map = upsample_method(attribution=attribution_map,\n",
    "                                                  image=images,\n",
    "                                                  device=device,\n",
    "                                                  model=model,\n",
    "                                                  layer=layer)\n",
    "\n",
    "                if (torch.abs(\n",
    "                    attribution_map.amax(dim=(2, 3), keepdim=True)\n",
    "                    - attribution_map.amin(dim=(2, 3), keepdim=True)\n",
    "                )\n",
    "                < 1e-6  ).any():\n",
    "                    print(\"A saliency map is constant, skipping batch\")\n",
    "                    del images, labels, attribution_map\n",
    "                    torch.cuda.empty_cache()\n",
    "                    continue\n",
    "\n",
    "                attribution_map = min_max_normalize(attribution_map)\n",
    "                attributions_per_layer.append(attribution_map)\n",
    "\n",
    "                # Mix the attribution maps\n",
    "                mix = MultiplierMix(layers_to_combine=\"all\")\n",
    "                mixed_attribution_map = mix(attributions_per_layer)\n",
    "\n",
    "                for metric in [RoadCombined()]:\n",
    "                    metric_result_normal = metric(model=model,\n",
    "                            test_images=images,\n",
    "                            saliency_maps=attribution_map,\n",
    "                            class_idx=labels,\n",
    "                            attribution_method=attribution_method,\n",
    "                            device=device,\n",
    "                            layer=layer)\n",
    "                    \n",
    "                    results.add_result(model=\"VGG11\",\n",
    "                                       attribution_method=attribution_method.name,\n",
    "                                       dataset=\"Imagenettewoof\",\n",
    "                                       layer=f\"features.{layer_index}\",\n",
    "                                       metric=metric.name,\n",
    "                                       upscale_method=upsample_method.name,\n",
    "                                       mixing_method= \"None\",\n",
    "                                       value=metric_result_normal,\n",
    "                                       image_index=index)\n",
    "\n",
    "                    metric_result_mixed = metric(model=model,\n",
    "                            test_images=images,\n",
    "                            saliency_maps=mixed_attribution_map,\n",
    "                            class_idx=labels,\n",
    "                            attribution_method=attribution_method,\n",
    "                            device=device,\n",
    "                            layer=layer)\n",
    "                    \n",
    "                    \n",
    "                    results.add_result(model=\"VGG11\",\n",
    "                                       attribution_method=attribution_method.name,\n",
    "                                       dataset=\"Imagenettewoof\",\n",
    "                                       layer=f\"features.{layer_index}\",\n",
    "                                       metric=metric.name,\n",
    "                                       upscale_method=upsample_method.name,\n",
    "                                       mixing_method= mix.name,\n",
    "                                       value=metric_result_mixed,\n",
    "                                       image_index=index)"
   ]
  },
  {
   "cell_type": "code",
   "execution_count": null,
   "metadata": {},
   "outputs": [],
   "source": []
  },
  {
   "cell_type": "code",
   "execution_count": null,
   "metadata": {},
   "outputs": [],
   "source": []
  }
 ],
 "metadata": {
  "kaggle": {
   "accelerator": "gpu",
   "dataSources": [
    {
     "isSourceIdPinned": true,
     "modelId": 240133,
     "modelInstanceId": 218406,
     "sourceId": 255459,
     "sourceType": "modelInstanceVersion"
    }
   ],
   "dockerImageVersionId": 30919,
   "isGpuEnabled": true,
   "isInternetEnabled": true,
   "language": "python",
   "sourceType": "notebook"
  },
  "kernelspec": {
   "display_name": "Python 3",
   "language": "python",
   "name": "python3"
  },
  "language_info": {
   "codemirror_mode": {
    "name": "ipython",
    "version": 3
   },
   "file_extension": ".py",
   "mimetype": "text/x-python",
   "name": "python",
   "nbconvert_exporter": "python",
   "pygments_lexer": "ipython3",
   "version": "3.10.11"
  }
 },
 "nbformat": 4,
 "nbformat_minor": 4
}
