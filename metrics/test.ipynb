{
 "cells": [
  {
   "cell_type": "code",
   "execution_count": 27,
   "id": "4c379bd8",
   "metadata": {},
   "outputs": [
    {
     "name": "stdout",
     "output_type": "stream",
     "text": [
      "tensor(0.6348)\n"
     ]
    }
   ],
   "source": [
    "import torch\n",
    "\n",
    "def batch_pearson_coherency(A: torch.Tensor, B: torch.Tensor) -> torch.Tensor:\n",
    "    \"\"\"\n",
    "    Computes Pearson correlation for a batch of matrices.\n",
    "    \n",
    "    Args:\n",
    "        A (torch.Tensor): Tensor of shape (batch_size, m, n).\n",
    "        B (torch.Tensor): Tensor of shape (batch_size, m, n).\n",
    "    \n",
    "    Returns:\n",
    "        torch.Tensor: PCC for each matrix pair in the batch.\n",
    "    \"\"\"\n",
    "    # Reshape to (batch_size, m*n)\n",
    "    a = A.view(A.shape[0], -1)\n",
    "    b = B.view(B.shape[0], -1)\n",
    "    \n",
    "    # Compute mean-centered matrices\n",
    "    a_centered = a - a.mean(dim=1, keepdim=True)\n",
    "    b_centered = b - b.mean(dim=1, keepdim=True)\n",
    "    \n",
    "    # Compute covariance and stds\n",
    "    cov = (a_centered * b_centered).sum(dim=1) / (a.shape[1] - 1)\n",
    "    std_a = torch.sqrt((a_centered ** 2).sum(dim=1) / (a.shape[1] - 1))\n",
    "    std_b = torch.sqrt((b_centered ** 2).sum(dim=1) / (b.shape[1] - 1))\n",
    "    \n",
    "    # Avoid division by zero\n",
    "    eps = 1e-8\n",
    "    rho = cov / (std_a * std_b + eps)\n",
    "    return rho\n",
    "\n",
    "\n",
    "# Example usage\n",
    "\n",
    "a = torch.randn((5,5), dtype=torch.float32)\n",
    "b = a + torch.randn((5,5), dtype=torch.float32) * 1 # Correlated with some noise\n",
    "\n",
    "print(pearson_coherency(a, b))  # Should be ~1.0"
   ]
  },
  {
   "cell_type": "code",
   "execution_count": null,
   "id": "ef3fd19c",
   "metadata": {},
   "outputs": [],
   "source": []
  }
 ],
 "metadata": {
  "kernelspec": {
   "display_name": "Python 3",
   "language": "python",
   "name": "python3"
  },
  "language_info": {
   "codemirror_mode": {
    "name": "ipython",
    "version": 3
   },
   "file_extension": ".py",
   "mimetype": "text/x-python",
   "name": "python",
   "nbconvert_exporter": "python",
   "pygments_lexer": "ipython3",
   "version": "3.10.11"
  }
 },
 "nbformat": 4,
 "nbformat_minor": 5
}
