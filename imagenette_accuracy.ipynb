{
 "cells": [
  {
   "cell_type": "code",
   "execution_count": 6,
   "metadata": {},
   "outputs": [
    {
     "name": "stdout",
     "output_type": "stream",
     "text": [
      "data\\imagewoof2-320\n"
     ]
    }
   ],
   "source": [
    "import sys\n",
    "sys.path.append('../')\n",
    "\n",
    "from models import vgg11_Imagenettewoof, vgg_preprocess\n",
    "import torch\n",
    "from data import imagenettewoof\n",
    "model = vgg11_Imagenettewoof()\n",
    "# Load weights\n",
    "model.load_state_dict(torch.load(\"./plots/VGG11_Imagenettewoof.pt\", map_location='cpu'))\n",
    "\n",
    "test_data = imagenettewoof(root=\"data\", split=\"test\", size=\"320px\", download=False, transform=vgg_preprocess)\n",
    "test_dl = torch.utils.data.DataLoader(test_data, batch_size=4, shuffle=False, num_workers=4)"
   ]
  },
  {
   "cell_type": "code",
   "execution_count": 8,
   "metadata": {},
   "outputs": [
    {
     "data": {
      "application/vnd.jupyter.widget-view+json": {
       "model_id": "73c696e1482e4781952ca95abef720f6",
       "version_major": 2,
       "version_minor": 0
      },
      "text/plain": [
       "  0%|          | 0/250 [00:13<?, ?it/s]"
      ]
     },
     "metadata": {},
     "output_type": "display_data"
    },
    {
     "name": "stdout",
     "output_type": "stream",
     "text": [
      "Class 0 has no samples.\n",
      "Class 1 has no samples.\n",
      "Class 2 has no samples.\n",
      "Class 3 has no samples.\n",
      "Class 4 has no samples.\n",
      "Class 5 has no samples.\n",
      "Class 6 has no samples.\n",
      "Class 7 has no samples.\n",
      "Accuracy of class 8: 87.27%\n",
      "Accuracy of class 9: 91.79%\n",
      "Class 10 has no samples.\n",
      "Class 11 has no samples.\n",
      "Class 12 has no samples.\n",
      "Class 13 has no samples.\n",
      "Class 14 has no samples.\n",
      "Class 15 has no samples.\n",
      "Class 16 has no samples.\n",
      "Class 17 has no samples.\n",
      "Accuracy of class 18: 73.33%\n",
      "Accuracy of class 19: 67.32%\n"
     ]
    }
   ],
   "source": [
    "# Compute the accuracy per class of the model\n",
    "from tqdm.auto import tqdm\n",
    "import numpy as np\n",
    "\n",
    "model.eval()\n",
    "num_classes = 20  # Assuming there are 20 classes\n",
    "class_correct = np.zeros(num_classes, dtype=int)\n",
    "class_total = np.zeros(num_classes, dtype=int)\n",
    "\n",
    "with torch.no_grad():\n",
    "    for inputs, labels in tqdm(test_dl):\n",
    "        outputs = model(inputs)\n",
    "        _, predicted = torch.max(outputs.data, 1)\n",
    "        for label, prediction in zip(labels, predicted):\n",
    "            class_total[label.item()] += 1\n",
    "            if label == prediction:\n",
    "                class_correct[label.item()] += 1\n",
    "\n",
    "# Print accuracy for each class\n",
    "for i in range(num_classes):\n",
    "    if class_total[i] > 0:\n",
    "        accuracy = 100 * class_correct[i] / class_total[i]\n",
    "        print(f\"Accuracy of class {i}: {accuracy:.2f}%\")\n",
    "    else:\n",
    "        print(f\"Class {i} has no samples.\")\n"
   ]
  },
  {
   "cell_type": "code",
   "execution_count": null,
   "metadata": {},
   "outputs": [],
   "source": []
  }
 ],
 "metadata": {
  "kernelspec": {
   "display_name": "Python 3",
   "language": "python",
   "name": "python3"
  },
  "language_info": {
   "codemirror_mode": {
    "name": "ipython",
    "version": 3
   },
   "file_extension": ".py",
   "mimetype": "text/x-python",
   "name": "python",
   "nbconvert_exporter": "python",
   "pygments_lexer": "ipython3",
   "version": "3.10.11"
  }
 },
 "nbformat": 4,
 "nbformat_minor": 2
}
